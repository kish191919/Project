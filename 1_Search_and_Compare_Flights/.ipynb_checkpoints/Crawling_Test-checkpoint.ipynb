{
 "cells": [
  {
   "cell_type": "markdown",
   "metadata": {},
   "source": [
    "## Requests"
   ]
  },
  {
   "cell_type": "code",
   "execution_count": 8,
   "metadata": {},
   "outputs": [],
   "source": [
    "import requests\n",
    "import time\n",
    "from bs4 import BeautifulSoup"
   ]
  },
  {
   "cell_type": "code",
   "execution_count": 41,
   "metadata": {},
   "outputs": [],
   "source": [
    "url = 'https://www.norwegian.com/us'"
   ]
  },
  {
   "cell_type": "code",
   "execution_count": 42,
   "metadata": {},
   "outputs": [],
   "source": [
    "response = requests.get(url)"
   ]
  },
  {
   "cell_type": "code",
   "execution_count": 43,
   "metadata": {},
   "outputs": [
    {
     "data": {
      "text/plain": [
       "'\\n<!doctype html>\\n<html class=\"no-js\" lang=\"\">\\n\\n<head>\\n    <meta charset=\"utf-8\">\\n    <title>Are you human? | Norwegian</title>\\n    <meta name=\"description\" content=\"\">\\n    <meta name=\"viewport\" content=\"width=device-width, initial-scale=1\">\\n    <meta name=\"robots\" content=\"noindex\">\\n    <meta name=\"googlebot\" content=\"noindex\">\\n\\n    <link rel=\"apple-touch-icon\" href=\"/Content/_Layout/img/favicons/norwegian-reward-128x128.png\">\\n    <link rel=\"icon\" type=\"image/png\" href=\"/Content/_Layout/img/favicons/favicon.ico\" />\\n\\n    <style>/*! normalize.css v8.0.1 | MIT License | github.com/necolas/normalize.css */html{-webkit-text-size-adjust:100%;line-height:1.15}body{margin:0}main{display:block}h1{font-size:2em;margin:.67em 0}hr{box-sizing:content-box;height:0;overflow:visible}pre{font-family:monospace,monospace;font-size:1em}a{background-color:transparent}abbr[title]{border-bottom:none;text-decoration:underline;text-decoration:underline dotted}b,strong{font-weight:bolder}code,kbd,samp{font-family:monospace,monospace;font-size:1em}small{font-size:80%}sub,sup{font-size:75%;line-height:0;position:relative;vertical-align:baseline}sub{bottom:-.25em}sup{top:-.5em}img{border-style:none}button,input,optgroup,select,textarea{font-family:inherit;font-size:100%;line-height:1.15;margin:0}button,input{overflow:visible}button,select{text-transform:none}[type=button],[type=reset],[type=submit],button{-webkit-appearance:button}[type=button]::-moz-focus-inner,[type=reset]::-moz-focus-inner,[type=submit]::-moz-focus-inner,button::-moz-focus-inner{border-style:none;padding:0}[type=button]:-moz-focusring,[type=reset]:-moz-focusring,[type=submit]:-moz-focusring,button:-moz-focusring{outline:1px dotted ButtonText}fieldset{padding:.35em .75em .625em}legend{box-sizing:border-box;color:inherit;display:table;max-width:100%;padding:0;white-space:normal}progress{vertical-align:baseline}textarea{overflow:auto}[type=checkbox],[type=radio]{box-sizing:border-box;padding:0}[type=number]::-webkit-inner-spin-button,[type=number]::-webkit-outer-spin-button{height:auto}[type=search]{-webkit-appearance:textfield;outline-offset:-2px}[type=search]::-webkit-search-decoration{-webkit-appearance:none}::-webkit-file-upload-button{-webkit-appearance:button;font:inherit}details{display:block}summary{display:list-item}[hidden],template{display:none}</style>\\n    <style>/*! HTML5 Boilerplate v7.2.0 | MIT License | https://html5boilerplate.com/ */html{background-color:#f1f1f1;color:#222;font-family:Arial,Helvetica,sans-serif;font-size:1em;line-height:1.4}::-moz-selection{background:#b3d4fc;text-shadow:none}::selection{background:#b3d4fc;text-shadow:none}hr{border:0;border-top:1px solid #ccc;display:block;height:1px;margin:1em 0;padding:0}audio,canvas,iframe,img,svg,video{vertical-align:middle}fieldset{border:0;margin:0;padding:0}textarea{resize:vertical}.browserupgrade{background:#ccc;color:#000;margin:.2em 0;padding:.2em 0}.hidden{display:none!important}.sr-only{border:0;clip:rect(0,0,0,0);height:1px;margin:-1px;overflow:hidden;padding:0;position:absolute;white-space:nowrap;width:1px}.sr-only.focusable:active,.sr-only.focusable:focus{clip:auto;height:auto;margin:0;overflow:visible;position:static;white-space:inherit;width:auto}.invisible{visibility:hidden}.clearfix:after,.clearfix:before{content:\" \";display:table}.clearfix:after{clear:both}@media print{*,:after,:before{background:transparent!important;box-shadow:none!important;color:#000!important;text-shadow:none!important}a,a:visited{text-decoration:underline}a[href]:after{content:\" (\" attr(href) \")\"}abbr[title]:after{content:\" (\" attr(title) \")\"}a[href^=\"#\"]:after,a[href^=\"javascript:\"]:after{content:\"\"}pre{white-space:pre-wrap!important}blockquote,pre{border:1px solid #999;page-break-inside:avoid}thead{display:table-header-group}img,tr{page-break-inside:avoid}h2,h3,p{orphans:3;widows:3}h2,h3{page-break-after:avoid}}</style>\\n    <style>#recaptcha_submit{display:none}.nav-container{background-color:#fff;display:flex;height:70px;justify-content:flex-end;width:100%}.nav-logo-red-container{align-content:center;background-color:#d81939;border-left:3px solid #fff;display:flex;justify-content:center;padding:.5em;width:225px}.nav-logo-container{display:flex;justify-content:center;margin:0;width:100%}.nav-logo-nas-desktop{display:block;margin-left:16px;margin-top:12px;width:160px}.nav-logo-nas-mob{display:none}.nav-logo-blue-line{background-color:#003d50;width:6px}.main-container{align-items:center;display:flex;flex-direction:column;justify-content:center;min-height:80vh;padding:2em}.main-container-content{max-width:400px}.main-container-content figure{max-width:300px}.main-container-error-figure{max-width:1000px;width:90%}.main-container-error-figure figure{margin:0;width:100%}.client-ip{background-color:#e3e3e3;border-radius:5px;font-family:monospace;font-size:1em;margin-top:1em;padding:.5em;text-align:center}h1,h2,h3,h4,h5,h6{color:#003d50}h3{margin-bottom:.2em;margin-top:1.5em}p{color:#333;margin-top:0}ul{padding-left:1em}.tac{text-align:center}.footer,.pa1e{padding:1em}.footer{font-family:monospace;font-size:1em;text-align:center}@media only screen and (max-width:600px){.nav-logo-red-container{align-content:center;background-color:#d81939;border-left:3px solid #fff;display:flex;justify-content:center;padding:.5em;width:60px}.nav-logo-nas-desktop{display:none}.nav-logo-nas-mob{display:block;width:70%}}</style>\\n\\n    <meta name=\"theme-color\" content=\"#f1f1f1\">\\n</head>\\n\\n<body>\\n    \\n    <nav class=\"nav-container\">\\n        <div class=\"nav-logo-blue-line\"></div>\\n        <div class=\"nav-logo-red-container\">\\n            <figure class=\"nav-logo-container\">\\n                <svg xmlns=\"http://www.w3.org/2000/svg\" viewBox=\"-199 394 197.2 49.9\" class=\"nav-logo-nas-desktop\">\\n                    <title>Norwegian logo</title>\\n\\n                                <path fill=\"#003D50\" d=\"M-23.6,426.3c-17.5,9-34.7,14.5-43,12.8c-7.3-1.5-3.7-11.5,6.7-19.7h2.2c-8.2,6.9-8.8,15.5-3.6,16.2\\n\\t\\t\\t\\tc5.9,0.7,21.1-2.5,36.6-9.7L-23.6,426.3z\" />\\n\\n                                <path fill=\"#003D50\" d=\"M-5.4,413.9c0.5,0,1,0.1,1.4,0.2c0.3,0.1,0.4,0.1,0.7,0.3c0.1,0,0.2,0.1,0.3,0.2c0.2,0.1,0.1,0.2,0.2,0.3\\n\\t\\t\\t\\tc0.1,0.4-0.1,0.7-0.3,1c-0.6,1-1.6,1.7-2.5,2.4c-1,0.8-2,1.4-3,2.1c-0.2,0.1-0.4,0.3-0.6,0.4c0.2,0.1,0.3,0.1,0.5,0.2l0,0\\n\\t\\t\\t\\tc0,0,0.1,0.1,0.2,0.1c0.3-0.1,0.5-0.3,0.8-0.4c0.3-0.2,0.5-0.2,0.8-0.1c0.2,0.1,0.5,0.4,0.6,0.6c0.1,0.4,0.1,0.7-0.1,1.1\\n\\t\\t\\t\\tc1.3,0.6,2.5,1.2,3.7,1.8c0.3,0.2,0.6,0.3,0.9,0.5c0.1,0.2-0.1,0.4-0.3,0.5c-0.5,0.2-0.9,0.6-1.4,0.6c-0.5-0.1-1-0.2-1.6-0.4\\n\\t\\t\\t\\tc-0.8-0.2-1.6-0.4-2.4-0.5c-0.6-0.1-1.3-0.2-1.9-0.4c-0.5-0.1-0.9-0.2-1.4-0.2c-0.6-0.1-1.2-0.1-1.9-0.1c-0.8,0-1.5,0-2.3-0.1\\n\\t\\t\\t\\tc-1.2,0.5-2.3,1.1-3.7,1.6c-0.9,0.3-1.7,0.6-2.6,0.9c0.3,0.4,0.7,0.5,0.9,1c0,0.1-0.1,0.1-0.1,0.1c-0.2,0.1-0.3,0.1-0.5,0.2\\n\\t\\t\\t\\tc-0.9-0.2-1.7-0.4-2.6-0.7h-0.2c-0.4,0.1-1,0.5-1.4,0c0-0.1-0.1-0.2-0.1-0.4c0-0.1-0.1-0.1-0.2-0.2c-0.2-0.1-0.3-0.1-0.4-0.2\\n\\t\\t\\t\\tc-0.3-0.1-0.5-0.2-0.8-0.3c-0.6-0.2-1.1-0.3-1.6-0.6c-0.1-0.1-0.2-0.2,0-0.4c0.3-0.2,0.8-0.4,1.2-0.2c0.4,0,0.9,0.1,1.2,0.1l0,0\\n\\t\\t\\t\\tc-0.5-0.5-0.9-1-1.4-1.5c-0.1-0.1-0.2-0.2-0.2-0.4c0-0.1,0.1-0.2,0.2-0.3c0.1-0.1,0.2-0.1,0.3-0.1c0.4-0.2,0.5-0.3,0.8-0.2\\n\\t\\t\\t\\tc0.9,0.4,1.6,0.7,2.6,1.1c0.2,0.1,0.4,0.2,0.6,0.2c0.3-0.1,0.4-0.2,0.6-0.3c0.1,0,0.4-0.2,0.5-0.3c0.3-0.2,0.6-0.4,0.8-0.5\\n\\t\\t\\t\\tc0.6-0.4,0.9-0.6,1.4-0.9c-0.7-0.3-1.5-0.7-2.2-1c-0.8-0.2-1-0.3-1.7-0.5c-0.5-0.1-1.1-0.3-1.1-0.3c-1-0.2-1.2-0.3-2.1-0.5\\n\\t\\t\\t\\tc-0.4-0.2-0.9-0.2-1.4-0.4c0-0.1,0-0.1,0-0.2c0.1-0.2,0.4-0.4,0.6-0.6c0.3-0.2,0.5-0.4,0.9-0.5c0.7,0,1.2,0.1,2,0.2\\n\\t\\t\\t\\tc0.9,0.1,1.8,0.2,2.6,0.3c1.1,0.1,2.4,0.2,3.5,0.4c0.1,0,0.2,0.1,0.3,0c0.1,0.1,0.2,0,0.3,0.1c0.1,0,0.2,0,0.3,0\\n\\t\\t\\t\\tc0.5-0.4,1.1-0.9,1.8-1.1c0.4,0,0.8,0.2,1,0.5c1.3-0.9,2.5-1.8,3.9-2.5c1.3-0.7,2.5-1.2,3.5-1.5c0.7-0.2,1.5-0.3,2.2-0.4\\n\\t\\t\\t\\tC-5.7,413.9-5.6,413.9-5.4,413.9\" />\\n\\n                                <path fill=\"#FFFFFF\" d=\"M-4.7,414.7c-0.6,0.1-1,0.2-1.7,0.5c-0.6,0.2-1.5,0.6-2.3,1c-1.1,0.5-2,1.1-3.2,1.8\\n\\t\\t\\t\\tc-0.4,0.3-1.3,1-1.4,1.1c-0.7-0.1-1.3-0.1-2-0.2l0.1-0.1c0.9-0.7,1.6-1.2,2.6-1.7c0.8-0.5,2.1-1.2,3.1-1.6\\n\\t\\t\\t\\tc0.9-0.4,1.9-0.7,2.9-0.8C-5.8,414.5-5.2,414.5-4.7,414.7\" />\\n\\n                                <path fill=\"#FFFFFF\" d=\"M-17.6,419.1c0.2-0.1,0.3-0.2,0.5-0.3c0.2-0.1,0.3-0.2,0.4-0.2c-0.1,0.3-0.1,0.4,0,0.7\\n\\t\\t\\t\\tc0,0.2,0.2,0.3,0.2,0.4c-0.4,0.3-0.8,0.5-1.2,0.8c-0.1-0.1-0.2-0.2-0.2-0.4c-0.1-0.3,0-0.5,0.1-0.8L-17.6,419.1z\" />\\n\\n                                <path fill=\"#FFFFFF\" d=\"M-18.3,422.4c-0.5,0.3-1,0.6-1.5,0.8c-1,0.5-2.1,1.1-3.6,1.8c-0.4,0.2-0.8,0.3-1.2,0.2\\n\\t\\t\\t\\tc-0.3,0-0.3,0-0.6-0.1c-0.5-0.5-1.1-1.1-1.6-1.6c-0.1-0.1-0.2-0.2-0.2-0.3l0.3-0.2h0.1c0.8,0.3,1.3,0.6,2.1,1\\n\\t\\t\\t\\tc0.3,0.1,0.6,0.3,0.9,0.4c0.3,0,0.6-0.1,0.9-0.2l0.2-0.1c0.4-0.3,0.6-0.4,0.8-0.5c0.8-0.5,1.5-0.9,2.3-1.4l0.2-0.1\\n\\t\\t\\t\\tC-18.9,422.2-18.7,422.3-18.3,422.4\" />\\n\\n                                    <path fill=\"#FFFFFF\" d=\"M-199,399.4h5.5v1.4c2.7-2.4,6.2-2.4,8.4-1c2.4,1.5,2.4,3.8,2.4,6.4v7.7h-5.5v-6.1\\n\\t\\t\\t\\t\\tc0-1.4,0.1-3.2-1.3-4.1c-0.6-0.5-1.9-0.5-2.7,0.1c-1.4,1-1.2,2.2-1.2,4.3v5.8h-5.6V399.4z\" />\\n\\n                                    <path fill=\"#FFFFFF\" d=\"M-176.2,400.1c-2.3,1.3-3.5,3.2-3.8,5.6c-0.2,1.9,0.2,4.2,1.8,5.9c2.9,3,8,3.1,10.9,2.1\\n\\t\\t\\t\\t\\tc2.4-0.8,4.4-2.2,5.2-5.3c0.5-2,0.3-4.1-1-6.1c-2.4-3.5-7.3-3.8-9.3-3.5C-173.6,399.1-175,399.4-176.2,400.1 M-171.8,402.8\\n\\t\\t\\t\\t\\tc0.9-0.2,2.3,0,3.1,1c0.8,0.9,1.1,2.3,1,3.3c-0.1,1-0.7,2.1-1.8,2.7c-1,0.5-2.4,0.5-3.4-0.2c-0.9-0.6-1.4-1.7-1.5-2.8\\n\\t\\t\\t\\t\\tc0-1,0.2-2.2,1.2-3.2C-172.6,403.1-172.2,403-171.8,402.8\" />\\n\\n                                    <path fill=\"#FFFFFF\" d=\"M-133.4,406.1c0,0.3-0.1,0.5-0.5,1.4l-2.1,6.4h-5.7l-5.4-14.5h6.1l1.9,6.1c0.3,1.1,0.4,1.3,0.4,1.7\\n\\t\\t\\t\\t\\tc0-0.3,0.1-0.6,0.4-1.7l1.9-6.1h6l1.9,6.1c0.3,1.1,0.4,1.3,0.4,1.7c0-0.3,0.1-0.6,0.4-1.7l1.9-6.1h6.1l-5.5,14.5h-5.7l-2-6.3\\n\\t\\t\\t\\t\\tC-133.3,406.6-133.3,406.4-133.4,406.1\" />\\n\\n                                    <path fill=\"#FFFFFF\" d=\"M-102.6,401.6c-2.6-3-8-3.1-10.5-2.4c-2.4,0.7-4.4,2.1-5.3,5.2c-0.6,2.3-0.4,4.5,1,6.5\\n\\t\\t\\t\\t\\tc2.6,3.7,7.6,3.5,10,3.2c1.8-0.3,5.1-1.3,6.3-4.5l0.1-0.1l-5.5-0.6c-0.2,0.2-0.3,0.4-0.9,0.9c-0.9,0.7-2.9,0.6-3.7,0.3\\n\\t\\t\\t\\t\\tc-0.9-0.4-1.7-1.5-1.8-2.2h12.3v-0.3C-100.6,405.7-101.2,403.3-102.6,401.6 M-106.4,404.8h-6.6c0.5-1.6,1.4-2.1,2.5-2.3\\n\\t\\t\\t\\t\\tC-109.3,402.3-107.3,402.6-106.4,404.8\" />\\n\\n                                    <path fill=\"#FFFFFF\" d=\"M-97.5,414.7c0.1,1.1,0.4,1.8,0.5,2.1c1.4,2.5,3.9,3,7,3s5.5-0.2,7.3-2.3c1.6-1.9,1.4-4.2,1.4-6.4v-11.5\\n\\t\\t\\t\\t\\th-5.5v1.3c-1.2-1.2-2.5-1.6-3.5-1.7c-2-0.3-4.8,0.4-6.5,2.6c-1.4,1.8-1.6,4.4-1.4,6.2c0.3,2.2,1.5,3.8,3.5,4.9\\n\\t\\t\\t\\t\\tc2.2,1.2,5.8,0.9,7.8-0.8c0,0.6,0,1.9-0.2,2.5c-0.4,0.9-1.2,1.2-1.8,1.3c-0.6,0.1-2.2,0.4-2.8-0.7c-0.1-0.2-0.2-0.3-0.2-0.5\\n\\t\\t\\t\\t\\tC-91.9,414.7-97.5,414.7-97.5,414.7z M-90.5,403.8c0.7-0.2,2.3-0.1,3.1,0.8c0.5,0.5,0.8,1.2,0.7,1.9c-0.1,0.6-0.4,1.4-1,1.8\\n\\t\\t\\t\\t\\tc-0.9,0.6-2.5,0.6-3.4,0.1c-0.7-0.4-1.2-0.9-1.3-1.7c-0.1-0.5,0-1.4,0.5-2C-91.5,404.2-91.1,404-90.5,403.8\" />\\n\\n                                    <path fill=\"#FFFFFF\" d=\"M-78.2,399.4h5.5v14.5h-5.5V399.4z M-78.2,394h5.5v3.7h-5.5V394z\" />\\n\\n                                    <path fill=\"#FFFFFF\" d=\"M-63.8,403.5c0.1-0.4,0.3-0.6,0.6-0.9c0.7-0.6,3.4-0.4,4.1-0.1c0.8,0.4,1,1,1.1,2c0,0-1.7-0.1-2.9-0.1\\n\\t\\t\\t\\t\\tc-1.4,0.1-2,0.1-3.2,0.3c-2.4,0.3-4.8,0.7-5.4,3.6c-0.4,2,0.2,3.8,2.1,5l0.2,0.1c2.8,1.2,6.3,0.8,9.4-1c0,0,0,0.9,0.2,1.3h6.4\\n\\t\\t\\t\\t\\tc-0.7-0.6-1-1.6-1-3v-6.2c0-1.2,0.1-2.8-0.7-3.7c-1.3-1.7-3.7-2.1-7.9-2.1c-3.4,0-5.7,0.2-7,1.9c-0.6,0.9-0.8,1.6-0.8,2.7h4.8\\n\\t\\t\\t\\t\\tV403.5z M-58.2,407.5c-0.5,1.9-1.6,2.5-3,2.7c-0.8,0.1-2.1,0.2-2.7-0.9c-0.1-0.2-0.2-0.8-0.1-1c0.4-0.8,1.1-0.7,2.9-0.8H-58.2z\" />\\n\\n                                    <path fill=\"#FFFFFF\" d=\"M-48.5,399.4h5.5v1.4c2.7-2.4,6.2-2.4,8.4-1c2.4,1.5,2.4,3.8,2.4,6.4v7.7h-5.5v-6.1\\n\\t\\t\\t\\t\\tc0-1.4,0.1-3.2-1.3-4.1c-0.7-0.4-2.1-0.4-2.8,0.2c-1.4,1-1.2,2.2-1.2,4.3v5.8h-5.5L-48.5,399.4L-48.5,399.4z\" />\\n\\n                                    <path fill=\"#FFFFFF\" d=\"M-149.8,399.2v5.6c-1.7,0-2.8,0.2-3.9,1v8.1h-5.5v-14.5h5.5v1.7c0.3-0.5,1-1.1,1.9-1.5\\n\\t\\t\\t\\t\\tC-151.5,399.4-150.5,399.2-149.8,399.2\" />\\n                </svg>\\n                <svg class=\"nav-logo-nas-mob\" xmlns=\"http://www.w3.org/2000/svg\" viewBox=\"0 0 70 70\">\\n                    <title>Norwegian logo</title>\\n                    <path d=\"M2 7.34h22.47V13c10.99-9.86 25.38-9.86 34.44-4.2 9.86 6.14 9.86 15.52 9.86 26.52V67H46.46V41.78c0-5.66.32-13.1-5.34-16.98-2.43-2.1-7.76-2.1-10.99.32-5.66 4.2-4.85 9.05-4.85 17.62v23.77H2.16L2 7.34z\"\\n                          fill=\"#fff\" />\\n                    <path d=\"M11.05 51.48c1.29.49 2.1-.32 2.91-.49 0 0 4.85 1.29 6.95 1.78.65 0 .81 0 1.29-.16.16-.16.32-.32.32-.49 0-.49-1.29-1.62-2.1-2.43 2.1-.65 4.37-1.29 6.47-2.1 3.23-1.29 6.14-2.59 9.05-3.88 2.1.16 7.44.32 10.35.49 4.85.49 16.98 3.23 18.43 3.56 1.13.16 2.43-.65 3.56-1.46.32-.32.81-1.13.49-1.46-.81-.49-8.25-4.04-11.32-5.5.32-.97.49-1.46.32-2.59-.16-.81-.65-1.29-1.46-1.62-.65-.16-1.78-.16-3.88 1.46-.16-.16-1.13-.65-1.62-.81.65-.32 6.47-4.2 8.89-6.14 2.26-1.78 4.69-3.56 6.31-6.14.32-.65.97-1.62.65-2.43-.65-1.13-1.78-1.62-2.75-1.78-1.13-.16-2.26-.49-4.37-.49-1.78.16-3.72.49-5.5.97-2.59.65-5.5 1.94-8.73 3.72-3.4 1.78-6.47 3.88-9.7 6.14-.49-.65-1.46-1.46-2.43-1.29-1.62.32-3.23 1.62-4.37 2.75-.16 0-1.94-.32-2.1-.49-2.91-.49-18.43-2.43-20.05-2.26-.81.16-3.4 1.94-3.72 2.59v.65c1.13.49 13.74 3.72 15.52 4.2 1.94.81 3.72 1.78 5.5 2.59-1.13.81-7.6 5.01-8.08 5.17-.49.16-.97-.32-1.62-.49-2.43-1.13-4.2-1.94-6.31-2.75-.78-.3-2.23.51-2.72.99-.16.16-.49.49-.49.81 0 .32.32.65.49.97 1.13 1.29 2.26 2.43 3.56 3.72-.81-.16-1.94-.16-2.91-.32-1.29-.16-2.1 0-2.91.49-.32.49-.16.81.16.97 1.29.65 6.63 2.1 6.95 2.26-.48-.49-.32.8.97 1.29zm4.53-5.34c-.97.49-2.43.65-2.91.65s-1.13 0-1.62-.32c-.32-.32-4.53-4.37-4.69-4.69 0 0 .81-.65 1.13-.49.49.16 6.14 3.07 7.28 3.4.81.16 1.46-.16 2.1-.65l8.73-5.5c.97.49 1.46.65 2.43.97-1.13.97-8.73 5.02-12.45 6.63zM29.97 34.5c-.81-.81-.65-2.59-.49-2.75s2.26-1.62 2.75-1.78c-.49 1.13.32 2.43.65 2.75-.97.65-1.94 1.3-2.91 1.78zm14.39-5.82c-1.13.65-3.23 2.59-3.4 2.59-1.62-.16-3.23-.32-4.85-.49 0 0 4.37-3.07 6.79-4.53 2.1-1.29 5.17-2.91 7.76-4.04 5.5-2.26 10.02-2.26 11.48-1.94-2.9.81-11.47 4.37-17.78 8.41z\"\\n                          fill=\"#003d50\" />\\n                    <path d=\"M44.36 28.68c-1.13.65-3.23 2.59-3.4 2.59-1.62-.16-3.23-.32-4.85-.49 0 0 4.37-3.07 6.79-4.53 2.1-1.29 5.17-2.91 7.76-4.04 5.5-2.26 10.02-2.26 11.48-1.94-2.9.81-11.47 4.37-17.78 8.41zM29.97 34.5c-.81-.81-.65-2.59-.49-2.75s2.26-1.62 2.75-1.78c-.49 1.13.32 2.43.65 2.75-.97.65-1.94 1.3-2.91 1.78zM15.58 46.14c-.97.49-2.43.65-2.91.65s-1.13 0-1.62-.32c-.32-.32-4.53-4.37-4.69-4.69 0 0 .81-.65 1.13-.49.49.16 6.14 3.07 7.28 3.4.81.16 1.46-.16 2.1-.65l8.73-5.5c.97.49 1.46.65 2.43.97-1.13.97-8.73 5.02-12.45 6.63z\"\\n                          fill=\"#fff\" />\\n                </svg>\\n            </figure>\\n        </div>\\n    </nav>\\n\\n    <section class=\"main-container\">\\n        <div class=\"main-container-content\">\\n            <figure>\\n                <svg xmlns=\"http://www.w3.org/2000/svg\" viewBox=\"0 0 245 200\">\\n                    <title>One robot and two humans standing next to each other</title>\\n                    <g fill=\"#003d50\">\\n                        <path d=\"M212.57 37.53c4.23 0 7.65-3.41 7.65-7.65v-7.65c0-4.23-3.41-7.65-7.65-7.65-4.23 0-7.65 3.41-7.65 7.65v7.65c0 4.24 3.42 7.65 7.65 7.65zm4.1-6.69c-.55 1.64-2.05 2.87-3.96 2.87-1.91 0-3.41-1.23-3.96-2.87h7.92zM240.7 74.54l-7.37-23.08c-1.23-3.96-5.6-7.1-9.7-7.1h-23.37c-4.1 0-8.47 3.14-9.7 7.1l-7.37 23.08c-1.23 3.82-.14 9.7 2.32 12.84l6.96 8.47L191.11 198h11.61l.01-.14h.96l7.78-75.93h.94l7.78 75.93h.96l.01.14h11.61L231.4 95.85l6.96-8.47c2.48-3.14 3.57-9.01 2.34-12.84z\" />\\n                    </g>\\n                    <g fill=\"#003d50\">\\n                        <path d=\"M124.68 44.05c6.28 0 11.47-5.19 11.47-11.47 0-1.09-.27-2.19-.55-3.28-.96-.41-2.05-.55-3.28-.55-6.28 0-11.47 5.05-11.47 11.47 0 1.09.27 2.19.55 3.28 1.1.28 2.19.55 3.28.55zM147.22 36.41c4.23 0 7.65-3.41 7.65-7.65v-7.65c0-4.23-3.41-7.65-7.65-7.65-4.23 0-7.65 3.41-7.65 7.65v7.65c0 4.23 3.41 7.65 7.65 7.65zm4.23-6.7c-.55 1.64-2.05 2.87-3.96 2.87-1.78 0-3.41-1.23-3.96-2.87h7.92zM176 73.42l-7.37-23.08c-1.23-3.96-5.6-7.1-9.7-7.1H135.88c-4.1 0-8.47 3.14-9.7 7.1l-7.37 23.08c-1.23 3.82-.14 9.7 2.46 12.84l6.96 8.47-1.37 102.15h9.8l3.82-38.24h13.83l3.82 38.24h9.8l-1.37-102.15 6.96-8.47c2.62-3.15 3.71-9.02 2.48-12.84z\" />\\n                    </g>\\n                    <path d=\"M55.1 4.73c.64 0 1.16.52 1.16 1.16v30.46c0 .64-.52 1.16-1.16 1.16H10.99c-.64 0-1.16-.52-1.16-1.16V5.89c0-.64.52-1.16 1.16-1.16H55.1m0-2.73H10.99C8.84 2 7.1 3.74 7.1 5.89v30.46c0 2.15 1.74 3.89 3.89 3.89H55.1c2.15 0 3.89-1.74 3.89-3.89V5.89C58.99 3.74 57.25 2 55.1 2z\"\\n                          fill=\"#909090\" />\\n                    <g fill=\"#909090\">\\n                        <path d=\"M22.12 25.9h2.73v2.73h-2.73zM26.9 25.9h2.73v2.73H26.9zM31.68 25.9h2.73v2.73h-2.73zM36.46 25.9h2.73v2.73h-2.73zM41.24 25.9h2.73v2.73h-2.73zM26.9 30h2.73v2.73H26.9zM31.68 30h2.73v2.73h-2.73zM36.46 30h2.73v2.73h-2.73z\" />\\n                    </g>\\n                    <path fill=\"#f1f1f1\" d=\"M12.56 38.19h2.73v1.37h-2.73zM16.66 38.19h2.73v1.37h-2.73z\" />\\n                    <path fill=\"#909090\"\\n                          d=\"M22.12 47.75l-8.19 5.46L3 83.26l10.93 16.39-1.37 98.32h12.29l6.83-75.11h2.73l6.83 75.11h12.29l-1.37-99.69 9.56-16.39L50.8 53.21l-6.83-5.46zM26.22 39.56l-2.73 6.82H42.6l-2.73-6.82z\" />\\n                </svg>\\n            </figure>\\n\\n            <h1>Are you a <strong>human?</strong></h1>\\n            <p>For security purposes please follow the instructions below.</p>\\n            <div>\\n                <form class=\"challenge-form\" id=\"challenge-form\" action=\"/us?__cf_chl_captcha_tk__=79469c5ddee2565ec281709ae6cd59963bc7d332-1580883393-0-AT3PCMbWked7PCUipaRmG1MoTfnghyXXDpHH_9HNKTs392KDv9E5ijfQPbLnVuaaTczBPy4bZoRquPr6P20cLyO8BjgQbpvAUvGCxtlUsSrJ7awmMmarLsv8unPQdFi0ZNwQPdTNmNiCeDySObWT3WKKS5MAB24YNMuTTwGI3Nc3xou1FgnwUZhU_WQv-YQHWqgKD2kzD9sCaTVvT00zhfz1Ad0kDhc_MEiE1t2vT02w1UCqRnrCLslHwXx_JgwW0MrWsZvn0rVMsdvQ9lcfAicJlBXO5fjTK5ESD3sLfJOJaKWypQnMVLmwOzv0M84AX4L4lvVoc-qDGXziaV2Sv-I_fcXfz9-YQatfsU9yjNG5RqSh656LwLWcb9xQAi0sHQ\" method=\"POST\" enctype=\"application/x-www-form-urlencoded\">\\n  <input type=\"hidden\" name=\"r\" value=\"d54df2a8b622644d38263a12e575570eadc018cd-1580883393-0-AYPHVyFbib/VNmTABFF+gWmMLIMJsLWzfQSeFJSQzHqLjb5XZfyAf32YQwshvUMCkfrNkEEEv14qHweLiU1TK3X94+Hsty0YbZxwryOLtJUr3CoCTDlrTcSr4D/VX3Zgs1fbXVqyo3PjVs0zxj9IVmEC4UEjWr0O7ktdhAzvkYv1vw8oFVNuU7+thyV7UIMZlSn7UePnU6yT4SYj0+jdSmrr3n7BKByi9ukNfDN1tVyWqdzeiFjHMzXhBBtoxYBxiAW9U0+oZE43EkeL0DRobqiY6oyCWFu8l3FcJJFBao/ZIXs9ktbYkhDU1fw8fYKTnq/uaVpn1FcUrXG11Ls+lGFkjk7tTBd+Dh/xN1a/znJy1k/SM/viJ0mfMEP5JrgeHwztFiJzFAL+yeMsIJxNFlMZpNrjaWxCLa0rsM3Mdjrqg2y0W2aPAOJLdxzRl8DiFgJqT8UHtgm3nVjmHa5uxzZPXu+6hAU1DgqLfe1G5rND2Dfmo9oHXqQLf013nAo1i914xqBticsjI/oBUJmHg7yDHclGA7WH8wIBU8NXSg0HZBp2wdfg1bWwE1lfFw4mfAmpDtsinEZjJhtYJAnif9qi3z2/yHOV7PfPhp65IrEv683n3V3J7NURKfKTs2uVno9b5VpHvuJtvW+8an8jwC4QobhySVrgw/y1ugVtRX/howfYr7t+w0IrhdhMQs0UJquGUp+77zOoWxwIUTA4i1i/iF2MnCgN5TyKrz8p15/iHQjWCItCMA4c2Z29lRziCHp4SzmxoAKGYqnmIiFTu3hDLhY2nf3J4oKV4WZyngSI4O52/3VoXxqOYf7Pd5cVGCdYV79NM8vNCOdBrvliDDGJAswqLZlPd5LX3XLGt8XoWtZpr+3Yb/b+nHa+VQqICgKkZfgPLsyZDGRBPHJ7B71zlNVzZIDuXafU8QWREv2a1jP7CHYanMYOwJdsdzGVc6xc5Mgwmx2BYt+9KvI28HjLQQAXY49JgNI38OpI2uXu1pwx1Creq9j97pf/zaMpZJ4lwQBEfstpmwTrinuaAP2aRqLkTLhkZceQifjTqjA4stEcJmVC2D5BXJ7VsbhaiktvqgJ6mR7w1z9foTLUnWf+rO+GbIKA2djIc/CXxM8HoS3Xerg0VfOX2f6WS0j5SPQJItbNq0IpQCJYUbu5Lg+5X3SgGnP1yf6OvfpO8dkMsC5ohAFGdQuUFAYyQCkEzegU9BXZTDRHB6yKtYr3QszuAQ9H7lZWEX5we2dHo2BU5lxfJbktccwIeBLnM0xBK1KtZOZ7bX1vGtxgUWCtU5LLLQnVaYYe6uAgf/qOtZCBK/WmqZ69lvDR+MBfx5o+aQ==\">\\n  <script type=\"text/javascript\" src=\"/cdn-cgi/scripts/cf.challenge.js\" data-type=\"normal\"  data-ray=\"5602c1984eb1d310\" async data-sitekey=\"6LfBixYUAAAAABhdHynFUIMA_sa4s-XsJvnjtgB0\"></script>\\n  <div class=\"g-recaptcha\"></div>\\n  <noscript id=\"cf-captcha-bookmark\" class=\"cf-captcha-info\">\\n    <div><div style=\"width: 302px\">\\n      <div>\\n        <iframe src=\"https://www.google.com/recaptcha/api/fallback?k=6LfBixYUAAAAABhdHynFUIMA_sa4s-XsJvnjtgB0\" frameborder=\"0\" scrolling=\"no\" style=\"width: 302px; height:422px; border-style: none;\"></iframe>\\n      </div>\\n      <div style=\"width: 300px; border-style: none; bottom: 12px; left: 25px; margin: 0px; padding: 0px; right: 25px; background: #f9f9f9; border: 1px solid #c1c1c1; border-radius: 3px;\">\\n        <textarea id=\"g-recaptcha-response\" name=\"g-recaptcha-response\" class=\"g-recaptcha-response\" style=\"width: 250px; height: 40px; border: 1px solid #c1c1c1; margin: 10px 25px; padding: 0px; resize: none;\"></textarea>\\n        <input type=\"submit\" value=\"Submit\"></input>\\n      </div>\\n    </div></div>\\n  </noscript>\\n</form>\\n\\n            </div>\\n            <div class=\"client-ip\">\\n                <strong>IP:</strong> 138.26.211.125 • <strong>RAY:</strong> 5602c1984eb1d310\\n            </div>\\n            <h3>Why am I seeing this?</h3>\\n            <p>\\n                Automated measures have detected potentially unusual traffic from your computer or network which may be in violation of our website\\'s terms of use. Completing the requested steps helps confirm that everything is ok.\\n            </p>\\n\\n            <h3>What can I do to prevent this in the future?</h3>\\n            <p>\\n                If you are on a personal connection, like at home, you can run an anti-virus scan on your device to make sure\\n                it is not infected with malware.\\n            </p>\\n            <p>\\n                If you are at an office or shared network, you can ask the network administrator to run a scan across the\\n                network looking for misconfigured or infected devices.\\n            </p>\\n            <p></p>\\n        </div>\\n    </section>\\n\\n    <footer class=\"footer\">\\n    </footer>\\n\\n</body>\\n\\n</html>'"
      ]
     },
     "execution_count": 43,
     "metadata": {},
     "output_type": "execute_result"
    }
   ],
   "source": [
    "response.text"
   ]
  },
  {
   "cell_type": "markdown",
   "metadata": {},
   "source": [
    "## Selenium"
   ]
  },
  {
   "cell_type": "code",
   "execution_count": 1,
   "metadata": {},
   "outputs": [],
   "source": [
    "import time\n",
    "from selenium import webdriver\n",
    "from selenium.webdriver.common.keys import Keys\n",
    "from selenium.common.exceptions import NoSuchElementException \n",
    "import pandas as pd"
   ]
  },
  {
   "cell_type": "code",
   "execution_count": 12,
   "metadata": {},
   "outputs": [],
   "source": [
    "driver = webdriver.Chrome(executable_path='/Users/s107166/.wdm/drivers/chromedriver/79.0.3945.36/mac64/chromedriver')"
   ]
  },
  {
   "cell_type": "code",
   "execution_count": 14,
   "metadata": {},
   "outputs": [],
   "source": [
    "driver.implicitly_wait(3) # 3초간 wait"
   ]
  },
  {
   "cell_type": "code",
   "execution_count": 15,
   "metadata": {},
   "outputs": [],
   "source": [
    "origin = 'Atlanta' \n",
    "destination = 'Boston'\n",
    "driver.get('https://www.delta.com/') #initial website\n",
    "#for destination in destinations:\n",
    "fly_from = driver.find_element_by_xpath('//*[@id=\"fromAirportName\"]') #fly from search bar\n",
    "time.sleep(1)\n",
    "fly_from.send_keys(origin)\n",
    "time.sleep(2)\n",
    "fly_from.submit()\n",
    "# fly_to = driver.find_element_by_xpath('//*[@id=\"toAirportName\"]') #fly to locates the search bar\n",
    "# time.sleep(2)\n",
    "# fly_to.send_keys(destination)\n",
    "# time.sleep(2)\n",
    "# fly_to.send_keys(Keys.TAB)\n",
    "# time.sleep(2)"
   ]
  },
  {
   "cell_type": "code",
   "execution_count": null,
   "metadata": {},
   "outputs": [],
   "source": []
  },
  {
   "cell_type": "code",
   "execution_count": null,
   "metadata": {},
   "outputs": [],
   "source": []
  },
  {
   "cell_type": "code",
   "execution_count": null,
   "metadata": {},
   "outputs": [],
   "source": []
  },
  {
   "cell_type": "code",
   "execution_count": null,
   "metadata": {},
   "outputs": [],
   "source": []
  },
  {
   "cell_type": "code",
   "execution_count": null,
   "metadata": {},
   "outputs": [],
   "source": []
  },
  {
   "cell_type": "code",
   "execution_count": 10,
   "metadata": {},
   "outputs": [
    {
     "ename": "AttributeError",
     "evalue": "'WebDriver' object has no attribute 'switchTo'",
     "output_type": "error",
     "traceback": [
      "\u001b[0;31m---------------------------------------------------------------------------\u001b[0m",
      "\u001b[0;31mAttributeError\u001b[0m                            Traceback (most recent call last)",
      "\u001b[0;32m<ipython-input-10-55a618bd9d4d>\u001b[0m in \u001b[0;36m<module>\u001b[0;34m\u001b[0m\n\u001b[0;32m----> 1\u001b[0;31m \u001b[0mdriver\u001b[0m\u001b[0;34m.\u001b[0m\u001b[0mswitchTo\u001b[0m\u001b[0;34m(\u001b[0m\u001b[0;34m)\u001b[0m\u001b[0;34m.\u001b[0m\u001b[0malert\u001b[0m\u001b[0;34m(\u001b[0m\u001b[0;34m)\u001b[0m\u001b[0;34m.\u001b[0m\u001b[0maccept\u001b[0m\u001b[0;34m(\u001b[0m\u001b[0;34m)\u001b[0m\u001b[0;34m\u001b[0m\u001b[0;34m\u001b[0m\u001b[0m\n\u001b[0m",
      "\u001b[0;31mAttributeError\u001b[0m: 'WebDriver' object has no attribute 'switchTo'"
     ]
    }
   ],
   "source": [
    "driver.switchTo().alert().accept()"
   ]
  },
  {
   "cell_type": "code",
   "execution_count": null,
   "metadata": {},
   "outputs": [],
   "source": [
    "driver.set_window_size(800, 600)"
   ]
  },
  {
   "cell_type": "code",
   "execution_count": null,
   "metadata": {},
   "outputs": [],
   "source": [
    "driver.execute_script(\"window.scrollTo(200, 300);\")"
   ]
  },
  {
   "cell_type": "code",
   "execution_count": null,
   "metadata": {},
   "outputs": [],
   "source": [
    "main_window = driver.current_window_handle\n",
    "main_window"
   ]
  },
  {
   "cell_type": "code",
   "execution_count": null,
   "metadata": {},
   "outputs": [],
   "source": [
    "driver.execute_script(\"window.open('https://www.google.com');\")"
   ]
  },
  {
   "cell_type": "code",
   "execution_count": null,
   "metadata": {},
   "outputs": [],
   "source": [
    "driver.get('http://daum.net/')"
   ]
  },
  {
   "cell_type": "code",
   "execution_count": null,
   "metadata": {},
   "outputs": [],
   "source": [
    "windows = driver.window_handles\n",
    "windows"
   ]
  },
  {
   "cell_type": "code",
   "execution_count": null,
   "metadata": {},
   "outputs": [],
   "source": [
    "driver.switch_to_window(windows[1])"
   ]
  },
  {
   "cell_type": "code",
   "execution_count": null,
   "metadata": {},
   "outputs": [],
   "source": [
    "driver.get('http://facebook.com/')"
   ]
  },
  {
   "cell_type": "code",
   "execution_count": null,
   "metadata": {},
   "outputs": [],
   "source": [
    "driver.switch_to_window(main_window)"
   ]
  },
  {
   "cell_type": "code",
   "execution_count": null,
   "metadata": {},
   "outputs": [],
   "source": [
    "driver.execute_script(\"location.reload();\")"
   ]
  },
  {
   "cell_type": "code",
   "execution_count": null,
   "metadata": {},
   "outputs": [],
   "source": [
    "# open alert\n",
    "driver.execute_script(\"alert('selenium test');\")\n",
    "# driver.execute_script(\"confirm('confirm?');\")"
   ]
  },
  {
   "cell_type": "code",
   "execution_count": null,
   "metadata": {},
   "outputs": [],
   "source": [
    "# focus alert\n",
    "alert = driver.switch_to_alert()"
   ]
  },
  {
   "cell_type": "code",
   "execution_count": null,
   "metadata": {},
   "outputs": [],
   "source": [
    "# get alert text\n",
    "alert.text"
   ]
  },
  {
   "cell_type": "code",
   "execution_count": null,
   "metadata": {},
   "outputs": [],
   "source": [
    "# close alert \n",
    "alert.accept() \n",
    "# alert.dismiss() #"
   ]
  },
  {
   "cell_type": "code",
   "execution_count": null,
   "metadata": {},
   "outputs": [],
   "source": [
    "driver.find_element_by_css_selector( \"#q\" ).send_keys( \"kayac\" )"
   ]
  },
  {
   "cell_type": "code",
   "execution_count": null,
   "metadata": {},
   "outputs": [],
   "source": [
    "driver.find_element_by_css_selector(\".ico_pctop.btn_search\").click()\n",
    "# driver.find_element_by_css_selector(\"#daumBtnSearch\").click()"
   ]
  },
  {
   "cell_type": "code",
   "execution_count": null,
   "metadata": {},
   "outputs": [],
   "source": [
    "driver.close()"
   ]
  },
  {
   "cell_type": "code",
   "execution_count": 15,
   "metadata": {},
   "outputs": [
    {
     "name": "stderr",
     "output_type": "stream",
     "text": [
      "/opt/anaconda3/lib/python3.7/site-packages/ipykernel_launcher.py:2: DeprecationWarning: use driver.switch_to.window instead\n",
      "  \n"
     ]
    }
   ],
   "source": [
    "for window in driver.window_handles: \n",
    "    driver.switch_to_window(window) \n",
    "    driver.close()"
   ]
  },
  {
   "cell_type": "code",
   "execution_count": null,
   "metadata": {},
   "outputs": [],
   "source": []
  }
 ],
 "metadata": {
  "kernelspec": {
   "display_name": "Python 3",
   "language": "python",
   "name": "python3"
  },
  "language_info": {
   "codemirror_mode": {
    "name": "ipython",
    "version": 3
   },
   "file_extension": ".py",
   "mimetype": "text/x-python",
   "name": "python",
   "nbconvert_exporter": "python",
   "pygments_lexer": "ipython3",
   "version": "3.7.4"
  }
 },
 "nbformat": 4,
 "nbformat_minor": 2
}
