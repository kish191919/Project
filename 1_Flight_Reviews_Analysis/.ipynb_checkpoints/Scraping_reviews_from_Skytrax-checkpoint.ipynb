{
 "cells": [
  {
   "cell_type": "markdown",
   "metadata": {},
   "source": [
    "### Web scraping from Skytrax and Consumeraffairs websites to extract reviews of American Airline and Delta Airline using BeautifulSoup package"
   ]
  },
  {
   "cell_type": "markdown",
   "metadata": {},
   "source": [
    "### Import packages"
   ]
  },
  {
   "cell_type": "code",
   "execution_count": 4,
   "metadata": {},
   "outputs": [],
   "source": [
    "import requests\n",
    "from bs4 import BeautifulSoup\n",
    "import pandas as pd\n",
    "import  re\n",
    "import math\n",
    "\n",
    "import MySQLdb, pickle\n",
    "from sqlalchemy import create_engine"
   ]
  },
  {
   "cell_type": "markdown",
   "metadata": {},
   "source": [
    "### List of datastructure"
   ]
  },
  {
   "cell_type": "code",
   "execution_count": 5,
   "metadata": {},
   "outputs": [],
   "source": [
    "reviews_sky_american=[]\n",
    "reviews_sky_delta=[]\n",
    "reviews_csaffairs_american=[] \n",
    "reviews_csaffairs_delta=[]\n",
    "data=pd.DataFrame()"
   ]
  },
  {
   "cell_type": "markdown",
   "metadata": {},
   "source": [
    "### Define a function to extract reviews from Skytrax"
   ]
  },
  {
   "cell_type": "code",
   "execution_count": 6,
   "metadata": {},
   "outputs": [],
   "source": [
    "def find_skytrax_reviews(airline):\n",
    "    reviews_sky=[]\n",
    "   \n",
    "    # find the number of review pages\n",
    "    url = requests.get(\"https://www.airlinequality.com/airline-reviews/\"+airline+\"/?sortby=post_date%3ADesc&pagesize=100\").text\n",
    "    soup_airline = BeautifulSoup(url,'lxml')\n",
    "    m=soup_airline.find('div',class_=\"pagination-total\").getText()\n",
    "    l=[int(s) for s in m.split() if s.isdigit()]\n",
    "    num_page = int(math.ceil(l[-1]/l[-2]))\n",
    "    \n",
    "    #go through each page and extract the reviews\n",
    "    for i in range(1,num_page+1):\n",
    "        url_str = \"https://www.airlinequality.com/airline-reviews/\"+airline+\"/page/\"+str(i)+\"/?sortby=post_date%3ADesc&pagesize=100\"\n",
    "        url = requests.get(url_str).text    \n",
    "        soup_airline = BeautifulSoup(url,'lxml') \n",
    "        items=soup_airline.find_all('div',{\"itemprop\":\"reviewBody\"})\n",
    "        for l in items:\n",
    "            reviews_sky.append(l.getText())\n",
    "    return(reviews_sky)"
   ]
  },
  {
   "cell_type": "markdown",
   "metadata": {},
   "source": [
    "### Define a function to Extract the reviews from consumer affairs"
   ]
  },
  {
   "cell_type": "code",
   "execution_count": 12,
   "metadata": {},
   "outputs": [],
   "source": [
    "def find_csaffairs_reviews(airline):\n",
    "    reviews_csaffairs=[]\n",
    "    url=\"https://www.consumeraffairs.com/travel/\"+airline+\".htm?page=1#sort=top_reviews&filter=none\"\n",
    "    soup_airline = BeautifulSoup(requests.get(url).text,'lxml')\n",
    "    items=soup_airline.find_all(\"div\",class_=\"rvw-bd ca-txt-bd-2\")\n",
    "    while(True):\n",
    "        for r in items:\n",
    "            reviews_csaffairs.append([p.text for p in r.find_all('p') if p.text])\n",
    "            next_review = soup_airline.find_all(attrs={\"rel\":\"next\"})\n",
    "       \n",
    "        if(len(next_review)==0):\n",
    "            break\n",
    "        else:\n",
    "            url=next_review[0]['href']\n",
    "            soup_airline=BeautifulSoup(requests.get(url).text,'lxml')\n",
    "            items=soup_airline.find_all(\"div\",class_=\"rvw-bd ca-txt-bd-2\")\n",
    "    return(reviews_csaffairs)"
   ]
  },
  {
   "cell_type": "markdown",
   "metadata": {},
   "source": [
    "### Create a DataFrame from all American and Delta Airlines reviews"
   ]
  },
  {
   "cell_type": "code",
   "execution_count": 15,
   "metadata": {},
   "outputs": [],
   "source": [
    "# American Airlines\n",
    "american_arl_reviews=find_skytrax_reviews(\"american-airlines\")\n",
    "\n",
    "# Delta Airlines\n",
    "delta_arl_reviews = find_skytrax_reviews(\"delta-air-lines\")\n",
    "\n",
    "# Create DataFrames\n",
    "american_reviews_df = pd.DataFrame(american_arl_reviews,columns=[\"reviews\"])\n",
    "american_reviews_df['airlines']='American Airline'\n",
    "\n",
    "delta_reviews_df = pd.DataFrame(delta_arl_reviews,columns=[\"reviews\"])\n",
    "delta_reviews_df['airlines']='Delta Airline'"
   ]
  },
  {
   "cell_type": "markdown",
   "metadata": {},
   "source": [
    "### Join two DataFrames and write to excel file"
   ]
  },
  {
   "cell_type": "code",
   "execution_count": 16,
   "metadata": {},
   "outputs": [],
   "source": [
    "pw = pickle.load(open('pw.plk','rb'))"
   ]
  },
  {
   "cell_type": "code",
   "execution_count": 17,
   "metadata": {},
   "outputs": [],
   "source": [
    "data=pd.concat([american_reviews_df,delta_reviews_df])"
   ]
  },
  {
   "cell_type": "code",
   "execution_count": 3,
   "metadata": {},
   "outputs": [
    {
     "ename": "NameError",
     "evalue": "name 'pd' is not defined",
     "output_type": "error",
     "traceback": [
      "\u001b[0;31m---------------------------------------------------------------------------\u001b[0m",
      "\u001b[0;31mNameError\u001b[0m                                 Traceback (most recent call last)",
      "\u001b[0;32m<ipython-input-3-ab7d80b971a4>\u001b[0m in \u001b[0;36m<module>\u001b[0;34m\u001b[0m\n\u001b[0;32m----> 1\u001b[0;31m \u001b[0mdata\u001b[0m\u001b[0;34m=\u001b[0m\u001b[0mpd\u001b[0m\u001b[0;34m.\u001b[0m\u001b[0mconcat\u001b[0m\u001b[0;34m(\u001b[0m\u001b[0;34m[\u001b[0m\u001b[0mamerican_reviews_df\u001b[0m\u001b[0;34m,\u001b[0m\u001b[0mdelta_reviews_df\u001b[0m\u001b[0;34m]\u001b[0m\u001b[0;34m)\u001b[0m\u001b[0;34m\u001b[0m\u001b[0;34m\u001b[0m\u001b[0m\n\u001b[0m\u001b[1;32m      2\u001b[0m \u001b[0mdata\u001b[0m\u001b[0;34m.\u001b[0m\u001b[0mto_excel\u001b[0m\u001b[0;34m(\u001b[0m\u001b[0;34m\"reviews2.xlsx\"\u001b[0m\u001b[0;34m)\u001b[0m\u001b[0;34m\u001b[0m\u001b[0;34m\u001b[0m\u001b[0m\n",
      "\u001b[0;31mNameError\u001b[0m: name 'pd' is not defined"
     ]
    }
   ],
   "source": [
    "# Saving data to the database(MySQL at Amazon Web Service Cloud )\n",
    "engine = create_engine(\"mysql+mysqldb://root:\" + pw + \"@127.0.0.1/flight\", pool_pre_ping=True)"
   ]
  }
 ],
 "metadata": {
  "kernelspec": {
   "display_name": "Python 3",
   "language": "python",
   "name": "python3"
  },
  "language_info": {
   "codemirror_mode": {
    "name": "ipython",
    "version": 3
   },
   "file_extension": ".py",
   "mimetype": "text/x-python",
   "name": "python",
   "nbconvert_exporter": "python",
   "pygments_lexer": "ipython3",
   "version": "3.7.4"
  }
 },
 "nbformat": 4,
 "nbformat_minor": 2
}
